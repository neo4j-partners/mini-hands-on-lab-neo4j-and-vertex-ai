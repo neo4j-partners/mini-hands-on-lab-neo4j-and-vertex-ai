{
 "cells": [
  {
   "cell_type": "markdown",
   "metadata": {
    "id": "4rQ6G65n6OxV"
   },
   "source": [
    "# Create Embedding\n",
    "In this notebook, we'll connect to a Neo4j instance.  We'll load data based on a schema and compute graph embeddings.  The notebook exports that data to pandas and then writes them to Cloud Storage as CSV files."
   ]
  },
  {
   "cell_type": "markdown",
   "metadata": {
    "id": "9MwTYwKk6OxX"
   },
   "source": [
    "## Using the Neo4j API\n",
    "Let's connect to our Neo4j deployment.  First off, install the Neo4j Graph Data Science package."
   ]
  },
  {
   "cell_type": "code",
   "execution_count": 28,
   "metadata": {
    "colab": {
     "base_uri": "https://localhost:8080/"
    },
    "executionInfo": {
     "elapsed": 15528,
     "status": "ok",
     "timestamp": 1681110797351,
     "user": {
      "displayName": "Ezhil Vendhan",
      "userId": "03023723423453260577"
     },
     "user_tz": -480
    },
    "id": "FT0KaLYj6OxX",
    "outputId": "0298985b-0f45-4321-d94d-6da99305725c"
   },
   "outputs": [],
   "source": [
    "!pip install graphdatascience --quiet\n",
    "!pip install --quiet google-cloud-storage\n",
    "!pip install --quiet google.cloud.aiplatform"
   ]
  },
  {
   "cell_type": "markdown",
   "metadata": {
    "id": "sFokFbiL6OxY"
   },
   "source": [
    "Now, you're going to need the connection string and credentials from the deployment you created above."
   ]
  },
  {
   "cell_type": "code",
   "execution_count": 31,
   "metadata": {
    "executionInfo": {
     "elapsed": 4,
     "status": "ok",
     "timestamp": 1681109793559,
     "user": {
      "displayName": "Ezhil Vendhan",
      "userId": "03023723423453260577"
     },
     "user_tz": -480
    },
    "gather": {
     "logged": 1669344803314
    },
    "id": "P41l_P4zzSqF"
   },
   "outputs": [],
   "source": [
    "# Edit these variables! \n",
    "DB_URL = 'neo4j+s://b9579464.databases.neo4j.io' #'neo4j+s://URL.databases.neo4j.io'\n",
    "DB_PASS = 'wPMOtOPRfKaXGigxm5oT8EzrviLAjqW0yCapd7zNQcY'\n",
    "\n",
    "# You can leave this default\n",
    "DB_USER = 'neo4j'"
   ]
  },
  {
   "cell_type": "markdown",
   "metadata": {},
   "source": [
    "Lets create GDS connection object using the variables defined above"
   ]
  },
  {
   "cell_type": "code",
   "execution_count": 32,
   "metadata": {
    "executionInfo": {
     "elapsed": 2309,
     "status": "ok",
     "timestamp": 1681109795865,
     "user": {
      "displayName": "Ezhil Vendhan",
      "userId": "03023723423453260577"
     },
     "user_tz": -480
    },
    "gather": {
     "logged": 1669344806183
    },
    "id": "8lUkSvmozSqF"
   },
   "outputs": [],
   "source": [
    "from graphdatascience import GraphDataScience\n",
    "gds = GraphDataScience(DB_URL, auth=(DB_USER, DB_PASS))"
   ]
  },
  {
   "cell_type": "markdown",
   "metadata": {
    "id": "zjzOZkVD8uLe",
    "nteract": {
     "transient": {
      "deleting": false
     }
    }
   },
   "source": [
    "# Explore & Load Data"
   ]
  },
  {
   "cell_type": "markdown",
   "metadata": {},
   "source": [
    "The dataset we are going to use is from a public available [Kaggle dataset](https://www.kaggle.com/datasets/rohitrox/healthcare-provider-fraud-detection-analysis).  These are healthcare expense claims with anonymised beneficiaries, claims and providers.  We've filtered the data and cleaned up the datasets. The cleaned data can be downloaded [here](https://storage.googleapis.com/neo4j-datasets/insurance-claim/data.csv)\n",
    "\n",
    "We will predict the potentially fraudulent providers based on the claims filed by them. We will use a GDS embedding algorithm to chart out Fraudulent patterns in the provider's claims to understand the future behaviour of providers.\n",
    "\n",
    "The dataset has\n",
    "\n",
    "- **Inpatient Data**: \n",
    "Contains claims filed for those patients who are admitted in the hospitals. It also provides additional details like their admission and discharge dates and admit and diagnosis code.\n",
    "- **Outpatient Data**\n",
    "- **Beneficiary Details Data**: \n",
    "Contains beneficiary KYC details like health conditions,regioregion they belong to etc. \n",
    "\n",
    "\n",
    "Before loading data into any Database, we usually have to come up with a schema and implement it on the Database. Graph Data Modelling is an important step with Neo4j and you define it based on the questions you would like to ask on the graph."
   ]
  },
  {
   "cell_type": "markdown",
   "metadata": {},
   "source": [
    "If you are interested, you can explore the data using Pandas"
   ]
  },
  {
   "cell_type": "code",
   "execution_count": 7,
   "metadata": {},
   "outputs": [
    {
     "data": {
      "text/html": [
       "<div>\n",
       "<style scoped>\n",
       "    .dataframe tbody tr th:only-of-type {\n",
       "        vertical-align: middle;\n",
       "    }\n",
       "\n",
       "    .dataframe tbody tr th {\n",
       "        vertical-align: top;\n",
       "    }\n",
       "\n",
       "    .dataframe thead th {\n",
       "        text-align: right;\n",
       "    }\n",
       "</style>\n",
       "<table border=\"1\" class=\"dataframe\">\n",
       "  <thead>\n",
       "    <tr style=\"text-align: right;\">\n",
       "      <th></th>\n",
       "      <th>bene_id</th>\n",
       "      <th>claim_id</th>\n",
       "      <th>claim_start_dt</th>\n",
       "      <th>claim_end_dt</th>\n",
       "      <th>provider</th>\n",
       "      <th>claim_amt_reimbursed</th>\n",
       "      <th>attending_physician</th>\n",
       "      <th>operating_physician</th>\n",
       "      <th>other_physician</th>\n",
       "      <th>claim_diag_code_1</th>\n",
       "      <th>...</th>\n",
       "      <th>chronic_cond_diabetes</th>\n",
       "      <th>chronic_cond_ischemicheart</th>\n",
       "      <th>chronic_cond_osteoporasis</th>\n",
       "      <th>chronic_cond_rheumatoidarthritis</th>\n",
       "      <th>chronic_cond_stroke</th>\n",
       "      <th>ip_annual_reimbursement_amt</th>\n",
       "      <th>ip_annual_deductible_amt</th>\n",
       "      <th>op_annual_reimbursement_amt</th>\n",
       "      <th>op_annual_deductible_amt</th>\n",
       "      <th>is_fraud</th>\n",
       "    </tr>\n",
       "  </thead>\n",
       "  <tbody>\n",
       "    <tr>\n",
       "      <th>0</th>\n",
       "      <td>BENE11002</td>\n",
       "      <td>CLM624349</td>\n",
       "      <td>2009-10-11</td>\n",
       "      <td>2009-10-11</td>\n",
       "      <td>PRV56011</td>\n",
       "      <td>30</td>\n",
       "      <td>PHY326117</td>\n",
       "      <td>NaN</td>\n",
       "      <td>NaN</td>\n",
       "      <td>78943</td>\n",
       "      <td>...</td>\n",
       "      <td>1</td>\n",
       "      <td>1</td>\n",
       "      <td>1</td>\n",
       "      <td>1</td>\n",
       "      <td>1</td>\n",
       "      <td>0</td>\n",
       "      <td>0</td>\n",
       "      <td>30</td>\n",
       "      <td>50</td>\n",
       "      <td>1</td>\n",
       "    </tr>\n",
       "    <tr>\n",
       "      <th>1</th>\n",
       "      <td>BENE11004</td>\n",
       "      <td>CLM121801</td>\n",
       "      <td>2009-01-06</td>\n",
       "      <td>2009-01-06</td>\n",
       "      <td>PRV56011</td>\n",
       "      <td>40</td>\n",
       "      <td>PHY334319</td>\n",
       "      <td>NaN</td>\n",
       "      <td>NaN</td>\n",
       "      <td>71988</td>\n",
       "      <td>...</td>\n",
       "      <td>0</td>\n",
       "      <td>0</td>\n",
       "      <td>0</td>\n",
       "      <td>0</td>\n",
       "      <td>1</td>\n",
       "      <td>0</td>\n",
       "      <td>0</td>\n",
       "      <td>1810</td>\n",
       "      <td>760</td>\n",
       "      <td>1</td>\n",
       "    </tr>\n",
       "    <tr>\n",
       "      <th>2</th>\n",
       "      <td>BENE11004</td>\n",
       "      <td>CLM150998</td>\n",
       "      <td>2009-01-22</td>\n",
       "      <td>2009-01-22</td>\n",
       "      <td>PRV56011</td>\n",
       "      <td>200</td>\n",
       "      <td>PHY403831</td>\n",
       "      <td>NaN</td>\n",
       "      <td>NaN</td>\n",
       "      <td>82382</td>\n",
       "      <td>...</td>\n",
       "      <td>0</td>\n",
       "      <td>0</td>\n",
       "      <td>0</td>\n",
       "      <td>0</td>\n",
       "      <td>1</td>\n",
       "      <td>0</td>\n",
       "      <td>0</td>\n",
       "      <td>1810</td>\n",
       "      <td>760</td>\n",
       "      <td>1</td>\n",
       "    </tr>\n",
       "    <tr>\n",
       "      <th>3</th>\n",
       "      <td>BENE11004</td>\n",
       "      <td>CLM173224</td>\n",
       "      <td>2009-02-03</td>\n",
       "      <td>2009-02-03</td>\n",
       "      <td>PRV56011</td>\n",
       "      <td>20</td>\n",
       "      <td>PHY339887</td>\n",
       "      <td>NaN</td>\n",
       "      <td>NaN</td>\n",
       "      <td>20381</td>\n",
       "      <td>...</td>\n",
       "      <td>0</td>\n",
       "      <td>0</td>\n",
       "      <td>0</td>\n",
       "      <td>0</td>\n",
       "      <td>1</td>\n",
       "      <td>0</td>\n",
       "      <td>0</td>\n",
       "      <td>1810</td>\n",
       "      <td>760</td>\n",
       "      <td>1</td>\n",
       "    </tr>\n",
       "    <tr>\n",
       "      <th>4</th>\n",
       "      <td>BENE11004</td>\n",
       "      <td>CLM224741</td>\n",
       "      <td>2009-03-03</td>\n",
       "      <td>2009-03-03</td>\n",
       "      <td>PRV56011</td>\n",
       "      <td>40</td>\n",
       "      <td>PHY345721</td>\n",
       "      <td>NaN</td>\n",
       "      <td>NaN</td>\n",
       "      <td>V6546</td>\n",
       "      <td>...</td>\n",
       "      <td>0</td>\n",
       "      <td>0</td>\n",
       "      <td>0</td>\n",
       "      <td>0</td>\n",
       "      <td>1</td>\n",
       "      <td>0</td>\n",
       "      <td>0</td>\n",
       "      <td>1810</td>\n",
       "      <td>760</td>\n",
       "      <td>1</td>\n",
       "    </tr>\n",
       "  </tbody>\n",
       "</table>\n",
       "<p>5 rows × 55 columns</p>\n",
       "</div>"
      ],
      "text/plain": [
       "     bene_id   claim_id claim_start_dt claim_end_dt  provider  \\\n",
       "0  BENE11002  CLM624349     2009-10-11   2009-10-11  PRV56011   \n",
       "1  BENE11004  CLM121801     2009-01-06   2009-01-06  PRV56011   \n",
       "2  BENE11004  CLM150998     2009-01-22   2009-01-22  PRV56011   \n",
       "3  BENE11004  CLM173224     2009-02-03   2009-02-03  PRV56011   \n",
       "4  BENE11004  CLM224741     2009-03-03   2009-03-03  PRV56011   \n",
       "\n",
       "  claim_amt_reimbursed attending_physician operating_physician  \\\n",
       "0                   30           PHY326117                 NaN   \n",
       "1                   40           PHY334319                 NaN   \n",
       "2                  200           PHY403831                 NaN   \n",
       "3                   20           PHY339887                 NaN   \n",
       "4                   40           PHY345721                 NaN   \n",
       "\n",
       "  other_physician claim_diag_code_1  ... chronic_cond_diabetes  \\\n",
       "0             NaN             78943  ...                     1   \n",
       "1             NaN             71988  ...                     0   \n",
       "2             NaN             82382  ...                     0   \n",
       "3             NaN             20381  ...                     0   \n",
       "4             NaN             V6546  ...                     0   \n",
       "\n",
       "  chronic_cond_ischemicheart chronic_cond_osteoporasis  \\\n",
       "0                          1                         1   \n",
       "1                          0                         0   \n",
       "2                          0                         0   \n",
       "3                          0                         0   \n",
       "4                          0                         0   \n",
       "\n",
       "  chronic_cond_rheumatoidarthritis chronic_cond_stroke  \\\n",
       "0                                1                   1   \n",
       "1                                0                   1   \n",
       "2                                0                   1   \n",
       "3                                0                   1   \n",
       "4                                0                   1   \n",
       "\n",
       "  ip_annual_reimbursement_amt ip_annual_deductible_amt  \\\n",
       "0                           0                        0   \n",
       "1                           0                        0   \n",
       "2                           0                        0   \n",
       "3                           0                        0   \n",
       "4                           0                        0   \n",
       "\n",
       "  op_annual_reimbursement_amt op_annual_deductible_amt is_fraud  \n",
       "0                          30                       50        1  \n",
       "1                        1810                      760        1  \n",
       "2                        1810                      760        1  \n",
       "3                        1810                      760        1  \n",
       "4                        1810                      760        1  \n",
       "\n",
       "[5 rows x 55 columns]"
      ]
     },
     "execution_count": 7,
     "metadata": {},
     "output_type": "execute_result"
    }
   ],
   "source": [
    "import pandas as pd\n",
    "import numpy as np\n",
    "\n",
    "#Let\n",
    "raw_df = pd.read_csv('https://storage.googleapis.com/neo4j-datasets/insurance-claim/data.csv', \n",
    "                     index_col=False, dtype='unicode')\n",
    "raw_df.head()"
   ]
  },
  {
   "cell_type": "markdown",
   "metadata": {},
   "source": [
    "Let's go with the following schema as our questions are more focussed around the relationships between claims, providers, physicians and the diagnoses "
   ]
  },
  {
   "cell_type": "markdown",
   "metadata": {},
   "source": [
    "![image info](https://storage.googleapis.com/neo4j-datasets/insurance-claim/img/schema.png)"
   ]
  },
  {
   "cell_type": "markdown",
   "metadata": {
    "id": "ILyN0cr18uLe",
    "nteract": {
     "transient": {
      "deleting": false
     }
    }
   },
   "source": [
    "### Create Constraints\n",
    "In order to ensure uniqueness of nodes, lets create some constraints. This will ensure that no duplicate nodes are created and speed up the CSV loading process, especially if we want to use `MERGE` statements - as MERGE statement creates new nodes only if they don't exist. "
   ]
  },
  {
   "cell_type": "code",
   "execution_count": 33,
   "metadata": {
    "gather": {
     "logged": 1669263867155
    },
    "id": "s00ivuUo8uLe",
    "jupyter": {
     "outputs_hidden": false,
     "source_hidden": false
    },
    "nteract": {
     "transient": {
      "deleting": false
     }
    },
    "outputId": "3d4af302-b77b-419c-f441-a0546bf02bf9"
   },
   "outputs": [
    {
     "data": {
      "text/html": [
       "<div>\n",
       "<style scoped>\n",
       "    .dataframe tbody tr th:only-of-type {\n",
       "        vertical-align: middle;\n",
       "    }\n",
       "\n",
       "    .dataframe tbody tr th {\n",
       "        vertical-align: top;\n",
       "    }\n",
       "\n",
       "    .dataframe thead th {\n",
       "        text-align: right;\n",
       "    }\n",
       "</style>\n",
       "<table border=\"1\" class=\"dataframe\">\n",
       "  <thead>\n",
       "    <tr style=\"text-align: right;\">\n",
       "      <th></th>\n",
       "    </tr>\n",
       "  </thead>\n",
       "  <tbody>\n",
       "  </tbody>\n",
       "</table>\n",
       "</div>"
      ],
      "text/plain": [
       "Empty DataFrame\n",
       "Columns: []\n",
       "Index: []"
      ]
     },
     "execution_count": 33,
     "metadata": {},
     "output_type": "execute_result"
    }
   ],
   "source": [
    "gds.run_cypher('CREATE CONSTRAINT IF NOT EXISTS FOR (n:Beneficiary) REQUIRE (n.id) IS NODE KEY;')\n",
    "gds.run_cypher('CREATE CONSTRAINT IF NOT EXISTS FOR (n:RenalDisease) REQUIRE (n.name) IS NODE KEY;')\n",
    "gds.run_cypher('CREATE CONSTRAINT IF NOT EXISTS FOR (n:IschemicHeartDisease) REQUIRE (n.name) IS NODE KEY;')\n",
    "gds.run_cypher('CREATE CONSTRAINT IF NOT EXISTS FOR (n:Osteoporosis) REQUIRE (n.name) IS NODE KEY;')\n",
    "gds.run_cypher('CREATE CONSTRAINT IF NOT EXISTS FOR (n:RheumatoidArthritis) REQUIRE (n.name) IS NODE KEY;')\n",
    "gds.run_cypher('CREATE CONSTRAINT IF NOT EXISTS FOR (n:Stroke) REQUIRE (n.name) IS NODE KEY;')\n",
    "gds.run_cypher('CREATE CONSTRAINT IF NOT EXISTS FOR (n:Diabetes) REQUIRE (n.name) IS NODE KEY;')\n",
    "gds.run_cypher('CREATE CONSTRAINT IF NOT EXISTS FOR (n:Depression) REQUIRE (n.name) IS NODE KEY;')\n",
    "gds.run_cypher('CREATE CONSTRAINT IF NOT EXISTS FOR (n:ObstructivePulmonaryDisease) REQUIRE (n.name) IS NODE KEY;')\n",
    "gds.run_cypher('CREATE CONSTRAINT IF NOT EXISTS FOR (n:Cancer) REQUIRE (n.name) IS NODE KEY;')\n",
    "gds.run_cypher('CREATE CONSTRAINT IF NOT EXISTS FOR (n:KidneyDisease) REQUIRE (n.name) IS NODE KEY;')\n",
    "gds.run_cypher('CREATE CONSTRAINT IF NOT EXISTS FOR (n:HeartFailure) REQUIRE (n.name) IS NODE KEY;')\n",
    "gds.run_cypher('CREATE CONSTRAINT IF NOT EXISTS FOR (n:Alzheimer) REQUIRE (n.name) IS NODE KEY;')\n",
    "gds.run_cypher('CREATE CONSTRAINT IF NOT EXISTS FOR (n:County) REQUIRE (n.id) IS NODE KEY;')\n",
    "gds.run_cypher('CREATE CONSTRAINT IF NOT EXISTS FOR (n:State) REQUIRE (n.id) IS NODE KEY;')\n",
    "gds.run_cypher('CREATE CONSTRAINT IF NOT EXISTS FOR (n:Claim) REQUIRE (n.id) IS NODE KEY;')\n",
    "gds.run_cypher('CREATE CONSTRAINT IF NOT EXISTS FOR (n:DiagnosisGroup) REQUIRE (n.id) IS NODE KEY;')\n",
    "gds.run_cypher('CREATE CONSTRAINT IF NOT EXISTS FOR (n:AdmitDiagnosis) REQUIRE (n.id) IS NODE KEY;')\n",
    "gds.run_cypher('CREATE CONSTRAINT IF NOT EXISTS FOR (n:Physician) REQUIRE (n.id) IS NODE KEY;')\n",
    "gds.run_cypher('CREATE CONSTRAINT IF NOT EXISTS FOR (n:Provider) REQUIRE (n.id) IS NODE KEY;')\n",
    "gds.run_cypher('CREATE CONSTRAINT IF NOT EXISTS FOR (n:Diagnosis) REQUIRE (n.id) IS NODE KEY;')\n",
    "gds.run_cypher('CREATE CONSTRAINT IF NOT EXISTS FOR (n:Procedure) REQUIRE (n.id) IS NODE KEY;')\n"
   ]
  },
  {
   "cell_type": "markdown",
   "metadata": {
    "id": "P2xwss1p8uLf",
    "nteract": {
     "transient": {
      "deleting": false
     }
    }
   },
   "source": [
    "### Load Data\n",
    "\n",
    "Now, we're going to take data from the Google Cloud Storage bucket and import it into Neo4j.  There are a few different ways to do this.  We'll do with a naive LOAD CSV statements via the GDS Python API.  \n",
    "\n",
    "The Neo4j [Data Importer](https://data-importer.neo4j.io/) is another option.  It's a great graphical way to import data.  However, the LOAD CSV option we're using makes it really easy to pull directly from Cloud Storage, so is probably a better choice for what we need.\n",
    "\n",
    "Lets start creating the `Beneficiary`, `Claim`, `Provider`, `County` and `State` nodes first."
   ]
  },
  {
   "cell_type": "code",
   "execution_count": 34,
   "metadata": {
    "gather": {
     "logged": 1669263891382
    },
    "id": "LOdBOBuI8uLf",
    "jupyter": {
     "outputs_hidden": false,
     "source_hidden": false
    },
    "nteract": {
     "transient": {
      "deleting": false
     }
    },
    "outputId": "e6190d56-2a46-4c99-d1ff-52afd2a33d3b"
   },
   "outputs": [],
   "source": [
    "result = gds.run_cypher(\n",
    "  \"\"\"\n",
    "    LOAD CSV WITH HEADERS FROM 'https://storage.googleapis.com/neo4j-datasets/insurance-claim/data.csv' AS row\n",
    "    \n",
    "    MERGE (bene:Beneficiary {id: row.bene_id})\n",
    "    ON CREATE SET\n",
    "        bene.dob = row.dob, \n",
    "        bene.gender = row.gender, \n",
    "        bene.race = row.race, \n",
    "        bene.ipAnnualReimbursementAmt = row.ip_annual_reimbursement_amt, \n",
    "        bene.opAnnualReimbursementAmt = row.op_annual_reimbursement_amt,\n",
    "        bene.ipAnnualDeductibleAmt = row.ip_annual_deductible_amt, \n",
    "        bene.opAnnualDeductibleAmt = row.op_annual_deductible_amt, \n",
    "        bene.partACovMonths = row.num_of_months_part_a_cov, \n",
    "        bene.partBCovMonths = row.num_of_months_part_b_Cov,\n",
    "        bene.dod = row.dod\n",
    "  \n",
    "    MERGE (provider:Provider {id: row.provider})\n",
    "    MERGE (county:County {id: row.county})\n",
    "    MERGE (state:State {id: row.state})\n",
    "    \n",
    "    CREATE (claim:Claim {id: row.claim_id, startDate: row.claim_start_dt, \n",
    "        endDate: row.claim_end_dt, reimbursedAmt: row.claim_amt_reimbursed,\n",
    "      isFraud: row.is_fraud})\n",
    "    \n",
    "    FOREACH(_ IN CASE WHEN trim(row.discharge_dt) <> \"\" THEN [1] ELSE [] END | SET claim.dischargeDate = row.discharge_dt)\n",
    "    FOREACH(_ IN CASE WHEN trim(row.admission_dt) <> \"\" THEN [1] ELSE [] END | SET claim.admitDate = row.admission_dt)\n",
    "    FOREACH(_ IN CASE WHEN trim(row.deductible_amt_paid) <> \"\" THEN [1] ELSE [] END | SET claim.deductibleAmtPaid = row.deductible_amt_paid)\n",
    "\n",
    "  \"\"\"\n",
    ")"
   ]
  },
  {
   "cell_type": "markdown",
   "metadata": {},
   "source": [
    "As per the schema we agreed upon earlier, lets start to connect the ndoes we just created"
   ]
  },
  {
   "cell_type": "code",
   "execution_count": 35,
   "metadata": {},
   "outputs": [],
   "source": [
    "result = gds.run_cypher(\n",
    "  \"\"\"\n",
    "  LOAD CSV WITH HEADERS FROM 'https://storage.googleapis.com/neo4j-datasets/insurance-claim/data.csv' AS row\n",
    "    MATCH (bene:Beneficiary {id: row.bene_id})\n",
    "    MATCH (claim:Claim {id: row.claim_id})\n",
    "    MATCH (provider:Provider {id: row.provider})\n",
    "    MATCH (county:County {id: row.county})\n",
    "    MATCH (state:State {id: row.state})\n",
    "\n",
    "    MERGE (county)<-[:LOCATED_AT]-(bene)\n",
    "    CREATE (bene)-[:FILED_CLAIM]->(claim)-[:PROVIDED_BY]->(provider)\n",
    "    MERGE (state)<-[:PART_OF]-(county)\n",
    "  \"\"\"\n",
    ")"
   ]
  },
  {
   "cell_type": "markdown",
   "metadata": {},
   "source": [
    "Time to create the `Physician`, `AdmitDiagnosis`, `DiagnosisGroup` nodes and relate them Claims and Providers"
   ]
  },
  {
   "cell_type": "code",
   "execution_count": 36,
   "metadata": {},
   "outputs": [],
   "source": [
    "result = gds.run_cypher(\n",
    "  \"\"\"\n",
    "  LOAD CSV WITH HEADERS FROM 'https://storage.googleapis.com/neo4j-datasets/insurance-claim/data.csv' AS row\n",
    "    MATCH (provider:Provider {id: row.provider})\n",
    "    MATCH (claim:Claim {id: row.claim_id})\n",
    "\n",
    "    FOREACH(_ IN CASE WHEN trim(row.attending_physician) <> \"\" THEN [1] ELSE [] END |\n",
    "      MERGE (attPhysician:Physician {id: row.attending_physician}) \n",
    "      MERGE (provider)<-[:WORKS_FOR]-(attPhysician)\n",
    "      MERGE (attPhysician)<-[:ATTENDED_BY]-(claim)\n",
    "    )\n",
    "    FOREACH(_ IN CASE WHEN trim(row.operating_physician) <> \"\" THEN [1] ELSE [] END |\n",
    "      MERGE (opPhysician:Physician {id: row.operating_physician}) \n",
    "      MERGE (provider)<-[:WORKS_FOR]-(opPhysician)\n",
    "      MERGE (opPhysician)<-[:OPERATED_BY]-(claim)\n",
    "    )\n",
    "    FOREACH(_ IN CASE WHEN trim(row.other_physician) <> \"\" THEN [1] ELSE [] END |\n",
    "      MERGE (othPhysician:Physician {id: row.other_physician}) \n",
    "      MERGE (provider)<-[:WORKS_FOR]-(othPhysician)\n",
    "      MERGE (othPhysician)<-[:ALSO_ATTENDED_BY]-(claim)\n",
    "    )\n",
    "    FOREACH(_ IN CASE WHEN trim(row.claim_admit_diagnosis_code) <> \"\" THEN [1] ELSE [] END |\n",
    "      MERGE (admitDiagnosis:AdmitDiagnosis {id: row.claim_admit_diagnosis_code})\n",
    "      MERGE (claim)-[:HAS_ADMIT_DIAGNOSIS]->(admitDiagnosis)\n",
    "    )\n",
    "    FOREACH(_ IN CASE WHEN trim(row.diag_group_code) <> \"\" THEN [1] ELSE [] END |\n",
    "      MERGE (diagnosisGroup:DiagnosisGroup {id: row.diag_group_code})\n",
    "      MERGE (claim)-[:HAS_DIAGNOSIS_GROUP]->(diagnosisGroup)\n",
    "    )\n",
    "  \"\"\")"
   ]
  },
  {
   "cell_type": "markdown",
   "metadata": {},
   "source": [
    "As per the schema, Claims are related to diagnosis and procedures. Let deal those nodes & relationships now"
   ]
  },
  {
   "cell_type": "code",
   "execution_count": 37,
   "metadata": {},
   "outputs": [],
   "source": [
    "result = gds.run_cypher(\n",
    "  \"\"\"\n",
    "  LOAD CSV WITH HEADERS FROM 'https://storage.googleapis.com/neo4j-datasets/insurance-claim/data.csv' AS row\n",
    "    MATCH (claim:Claim {id: row.claim_id})\n",
    "\n",
    "    FOREACH(_ IN CASE WHEN trim(row.claim_procedure_code_1) <> \"\" THEN [1] ELSE [] END |\n",
    "      MERGE (proc1:Procedure {id: row.claim_procedure_code_1})\n",
    "      MERGE (claim)-[:HAS_PROCEDURE]->(proc1)\n",
    "    )\n",
    "    FOREACH(_ IN CASE WHEN trim(row.claim_procedure_code_2) <> \"\" THEN [1] ELSE [] END |\n",
    "      MERGE (proc2:Procedure {id: row.claim_procedure_code_2})\n",
    "      MERGE (claim)-[:HAS_PROCEDURE]->(proc2)\n",
    "    )\n",
    "    FOREACH(_ IN CASE WHEN trim(row.claim_procedure_code_3) <> \"\" THEN [1] ELSE [] END |\n",
    "      MERGE (proc3:Procedure {id: row.claim_procedure_code_3})\n",
    "      MERGE (claim)-[:HAS_PROCEDURE]->(proc3)\n",
    "    )\n",
    "    FOREACH(_ IN CASE WHEN trim(row.claim_procedure_code_4) <> \"\" THEN [1] ELSE [] END |\n",
    "      MERGE (proc4:Procedure {id: row.claim_procedure_code_4})\n",
    "      MERGE (claim)-[:HAS_PROCEDURE]->(proc4)\n",
    "    )\n",
    "    FOREACH(_ IN CASE WHEN trim(row.claim_procedure_code_5) <> \"\" THEN [1] ELSE [] END |\n",
    "      MERGE (proc5:Procedure {id: row.claim_procedure_code_5})\n",
    "      MERGE (claim)-[:HAS_PROCEDURE]->(proc5)\n",
    "    )\n",
    "    FOREACH(_ IN CASE WHEN trim(row.claim_procedure_code_6) <> \"\" THEN [1] ELSE [] END |\n",
    "      MERGE (proc6:Procedure {id: row.claim_procedure_code_6})\n",
    "      MERGE (claim)-[:HAS_PROCEDURE]->(proc6)\n",
    "    )\n",
    "    \n",
    "    FOREACH(_ IN CASE WHEN trim(row.claim_diag_code_1) <> \"\" THEN [1] ELSE [] END |\n",
    "      MERGE (diag1:Diagnosis {id: row.claim_diag_code_1})\n",
    "      MERGE (claim)-[:HAS_DIAGNOSIS]->(diag1)\n",
    "    )\n",
    "    FOREACH(_ IN CASE WHEN trim(row.claim_diag_code_2) <> \"\" THEN [1] ELSE [] END |\n",
    "      MERGE (diag2:Diagnosis {id: row.claim_diag_code_2})\n",
    "      MERGE (claim)-[:HAS_DIAGNOSIS]->(diag2)\n",
    "    )\n",
    "    FOREACH(_ IN CASE WHEN trim(row.claim_diag_code_3) <> \"\" THEN [1] ELSE [] END |\n",
    "      MERGE (diag3:Diagnosis {id: row.claim_diag_code_3})\n",
    "      MERGE (claim)-[:HAS_DIAGNOSIS]->(diag3)\n",
    "    )\n",
    "    FOREACH(_ IN CASE WHEN trim(row.claim_diag_code_4) <> \"\" THEN [1] ELSE [] END |\n",
    "      MERGE (diag4:Diagnosis {id: row.claim_diag_code_4})\n",
    "      MERGE (claim)-[:HAS_DIAGNOSIS]->(diag4)\n",
    "    )\n",
    "    FOREACH(_ IN CASE WHEN trim(row.claim_diag_code_5) <> \"\" THEN [1] ELSE [] END |\n",
    "      MERGE (diag5:Diagnosis {id: row.claim_diag_code_5})\n",
    "      MERGE (claim)-[:HAS_DIAGNOSIS]->(diag5)\n",
    "    )\n",
    "    FOREACH(_ IN CASE WHEN trim(row.claim_diag_code_6) <> \"\" THEN [1] ELSE [] END |\n",
    "      MERGE (diag6:Diagnosis {id: row.claim_diag_code_6})\n",
    "      MERGE (claim)-[:HAS_DIAGNOSIS]->(diag6)\n",
    "    )\n",
    "    FOREACH(_ IN CASE WHEN trim(row.claim_diag_code_7) <> \"\" THEN [1] ELSE [] END |\n",
    "      MERGE (diag7:Diagnosis {id: row.claim_diag_code_7})\n",
    "      MERGE (claim)-[:HAS_DIAGNOSIS]->(diag7)\n",
    "    )\n",
    "    FOREACH(_ IN CASE WHEN trim(row.claim_diag_code_8) <> \"\" THEN [1] ELSE [] END |\n",
    "      MERGE (diag8:Diagnosis {id: row.claim_diag_code_8})\n",
    "      MERGE (claim)-[:HAS_DIAGNOSIS]->(diag8)\n",
    "    )\n",
    "    FOREACH(_ IN CASE WHEN trim(row.claim_diag_code_9) <> \"\" THEN [1] ELSE [] END |\n",
    "      MERGE (diag9:Diagnosis {id: row.claim_diag_code_9})\n",
    "      MERGE (claim)-[:HAS_DIAGNOSIS]->(diag9)\n",
    "    )\n",
    "    FOREACH(_ IN CASE WHEN trim(row.claim_diag_code_10) <> \"\" THEN [1] ELSE [] END |\n",
    "      MERGE (diag10:Diagnosis {id: row.claim_diag_code_10})\n",
    "      MERGE (claim)-[:HAS_DIAGNOSIS]->(diag10)\n",
    "    )\n",
    "  \"\"\")"
   ]
  },
  {
   "cell_type": "markdown",
   "metadata": {},
   "source": [
    "Finally, lets connect our Benificiaries (or) patients with diseases they suffer from"
   ]
  },
  {
   "cell_type": "code",
   "execution_count": 38,
   "metadata": {},
   "outputs": [],
   "source": [
    "result = gds.run_cypher(\n",
    "  \"\"\"\n",
    "  LOAD CSV WITH HEADERS FROM 'https://storage.googleapis.com/neo4j-datasets/insurance-claim/data.csv' AS row\n",
    "    MATCH (bene:Beneficiary {id: row.bene_id})\n",
    "\n",
    "    FOREACH(_ IN CASE WHEN row.chronic_cond_alzheimer = '1' THEN [1] ELSE [] END |\n",
    "      MERGE (n:Alzheimer {name:'Alzheimer'}) MERGE (bene)-[:HAS_CHRONIC]->(n)\n",
    "    )\n",
    "    FOREACH(_ IN CASE WHEN row.chronic_cond_kidneydisease = '1' THEN [1] ELSE [] END |\n",
    "      MERGE (n:KidneyDisease {name:'Kidney Disease'}) MERGE (bene)-[:HAS_CHRONIC]->(n)\n",
    "    )\n",
    "    FOREACH(_ IN CASE WHEN row.chronic_cond_heartfailure = '1' THEN [1] ELSE [] END |\n",
    "      MERGE (n:HeartFailure {name:'Heart Failure'}) MERGE (bene)-[:HAS_CHRONIC]->(n)\n",
    "    )\n",
    "    FOREACH(_ IN CASE WHEN row.chronic_cond_cancer = '1' THEN [1] ELSE [] END |\n",
    "      MERGE (n:Cancer {name:'Cancer'}) MERGE (bene)-[:HAS_CHRONIC]->(n)\n",
    "    )\n",
    "    FOREACH(_ IN CASE WHEN row.chronic_cond_obstrpulmonary = '1' THEN [1] ELSE [] END |\n",
    "      MERGE (n:ObstructivePulmonaryDisease {name:'Obstructive Pulmonary Disease'}) \n",
    "      MERGE (bene)-[:HAS_CHRONIC]->(n)\n",
    "    )\n",
    "    FOREACH(_ IN CASE WHEN row.chronic_cond_depression = '1' THEN [1] ELSE [] END |\n",
    "      MERGE (n:Depression {name:'Depression'}) MERGE (bene)-[:HAS_CHRONIC]->(n)\n",
    "    )\n",
    "    FOREACH(_ IN CASE WHEN row.chronic_cond_diabetes = '1' THEN [1] ELSE [] END |\n",
    "      MERGE (n:Diabetes {name:'Diabetes'}) MERGE (bene)-[:HAS_CHRONIC]->(n)\n",
    "    )\n",
    "    FOREACH(_ IN CASE WHEN row.chronic_cond_ischemicheart = '1' THEN [1] ELSE [] END |\n",
    "      MERGE (n:IschemicHeartDisease {name:'Ischemic Heart Disease'}) MERGE (bene)-[:HAS_CHRONIC]->(n)\n",
    "    )\n",
    "    FOREACH(_ IN CASE WHEN row.chronic_cond_osteoporasis = '1' THEN [1] ELSE [] END |\n",
    "      MERGE (n:Osteoporosis {name:'Osteoporosis'}) MERGE (bene)-[:HAS_CHRONIC]->(n)\n",
    "    )\n",
    "    FOREACH(_ IN CASE WHEN row.chronic_cond_rheumatoidarthritis = '1' THEN [1] ELSE [] END |\n",
    "      MERGE (n:RheumatoidArthritis {name:'Rheumatoid Arthritis'}) MERGE (bene)-[:HAS_CHRONIC]->(n)\n",
    "    )\n",
    "    FOREACH(_ IN CASE WHEN row.chronic_cond_stroke = '1' THEN [1] ELSE [] END |\n",
    "      MERGE (n:Stroke {name:'Stroke'}) MERGE (bene)-[:HAS_CHRONIC]->(n)\n",
    "    )\n",
    "    FOREACH(_ IN CASE WHEN row.renal_disease_indicator = '1' THEN [1] ELSE [] END |\n",
    "      MERGE (n:RenalDisease {name:'Renal Disease'}) MERGE (bene)-[:HAS_DISEASE]->(n)\n",
    "    )\n",
    "  \"\"\"\n",
    ")"
   ]
  },
  {
   "cell_type": "markdown",
   "metadata": {
    "id": "ZtJy4eO_zSqF"
   },
   "source": [
    "## Graph Data Science\n",
    "We got the data inside our Database! Let's do some Graph Data Science. This is how a typical GDS workflow looks like inside Neo4j\n",
    "\n",
    "![GDS Workflow](https://storage.googleapis.com/neo4j-datasets/insurance-claim/img/gds_workflow.png)\n",
    "\n",
    "As first step, we're going to use Neo4j Graph Data Science to create an in memory graph represtation of the data.  We'll enhance that representation with features we engineer using a graph embedding."
   ]
  },
  {
   "cell_type": "code",
   "execution_count": 39,
   "metadata": {
    "colab": {
     "base_uri": "https://localhost:8080/",
     "height": 81
    },
    "executionInfo": {
     "elapsed": 1320,
     "status": "ok",
     "timestamp": 1681109917108,
     "user": {
      "displayName": "Ezhil Vendhan",
      "userId": "03023723423453260577"
     },
     "user_tz": -480
    },
    "gather": {
     "logged": 1669344835257
    },
    "id": "x76ZEtR16Oxb",
    "outputId": "84427470-4024-4c8e-b96d-0f889d2e5078"
   },
   "outputs": [
    {
     "data": {
      "text/html": [
       "<div>\n",
       "<style scoped>\n",
       "    .dataframe tbody tr th:only-of-type {\n",
       "        vertical-align: middle;\n",
       "    }\n",
       "\n",
       "    .dataframe tbody tr th {\n",
       "        vertical-align: top;\n",
       "    }\n",
       "\n",
       "    .dataframe thead th {\n",
       "        text-align: right;\n",
       "    }\n",
       "</style>\n",
       "<table border=\"1\" class=\"dataframe\">\n",
       "  <thead>\n",
       "    <tr style=\"text-align: right;\">\n",
       "      <th></th>\n",
       "      <th>graph</th>\n",
       "      <th>readProjection</th>\n",
       "      <th>nodes</th>\n",
       "      <th>rels</th>\n",
       "    </tr>\n",
       "  </thead>\n",
       "  <tbody>\n",
       "    <tr>\n",
       "      <th>0</th>\n",
       "      <td>projection</td>\n",
       "      <td>{'HAS_DIAGNOSIS': {'orientation': 'UNDIRECTED'...</td>\n",
       "      <td>167271</td>\n",
       "      <td>2105376</td>\n",
       "    </tr>\n",
       "  </tbody>\n",
       "</table>\n",
       "</div>"
      ],
      "text/plain": [
       "        graph                                     readProjection   nodes  \\\n",
       "0  projection  {'HAS_DIAGNOSIS': {'orientation': 'UNDIRECTED'...  167271   \n",
       "\n",
       "      rels  \n",
       "0  2105376  "
      ]
     },
     "metadata": {},
     "output_type": "display_data"
    }
   ],
   "source": [
    "result = gds.run_cypher(\n",
    "  \"\"\"\n",
    "    CALL gds.graph.project(\n",
    "      'projection',\n",
    "      ['Beneficiary','RenalDisease','IschemicHeartDisease','Osteoporosis',\n",
    "      'RheumatoidArthritis','Stroke','Diabetes','Depression','ObstructivePulmonaryDisease',\n",
    "      'Cancer','KidneyDisease','HeartFailure','Alzheimer','County','State','Claim',\n",
    "      'DiagnosisGroup','AdmitDiagnosis','Physician','Provider','Diagnosis','Procedure'],\n",
    "      {\n",
    "        LOCATED_AT: {orientation: 'UNDIRECTED'},\n",
    "        FILED_CLAIM: {orientation: 'UNDIRECTED'},\n",
    "        PROVIDED_BY: {orientation: 'UNDIRECTED'},\n",
    "        PART_OF: {orientation: 'UNDIRECTED'},\n",
    "        WORKS_FOR: {orientation: 'UNDIRECTED'},\n",
    "        ATTENDED_BY: {orientation: 'UNDIRECTED'},\n",
    "        OPERATED_BY: {orientation: 'UNDIRECTED'},\n",
    "        ALSO_ATTENDED_BY: {orientation: 'UNDIRECTED'},\n",
    "        HAS_ADMIT_DIAGNOSIS: {orientation: 'UNDIRECTED'},\n",
    "        HAS_DIAGNOSIS_GROUP: {orientation: 'UNDIRECTED'},\n",
    "        HAS_PROCEDURE: {orientation: 'UNDIRECTED'},\n",
    "        HAS_DIAGNOSIS: {orientation: 'UNDIRECTED'},\n",
    "        HAS_CHRONIC: {orientation: 'UNDIRECTED'},\n",
    "        HAS_DISEASE: {orientation: 'UNDIRECTED'}\n",
    "      }\n",
    "    )\n",
    "    YIELD\n",
    "      graphName AS graph,\n",
    "      relationshipProjection AS readProjection,\n",
    "      nodeCount AS nodes,\n",
    "      relationshipCount AS rels\n",
    "  \"\"\"\n",
    ")\n",
    "display(result)"
   ]
  },
  {
   "cell_type": "markdown",
   "metadata": {
    "id": "HiwL552u6Oxb"
   },
   "source": [
    "If you get an error saying the graph already exists, that's probably because you ran this code before. You can destroy it using this command:"
   ]
  },
  {
   "cell_type": "code",
   "execution_count": 43,
   "metadata": {
    "colab": {
     "base_uri": "https://localhost:8080/",
     "height": 179
    },
    "executionInfo": {
     "elapsed": 762,
     "status": "ok",
     "timestamp": 1681109905724,
     "user": {
      "displayName": "Ezhil Vendhan",
      "userId": "03023723423453260577"
     },
     "user_tz": -480
    },
    "gather": {
     "logged": 1669263902233
    },
    "id": "EPZIIIJc6Oxb",
    "outputId": "a4b51e53-9b21-4f0f-fe6a-9a41fb4481cc"
   },
   "outputs": [
    {
     "data": {
      "text/html": [
       "<div>\n",
       "<style scoped>\n",
       "    .dataframe tbody tr th:only-of-type {\n",
       "        vertical-align: middle;\n",
       "    }\n",
       "\n",
       "    .dataframe tbody tr th {\n",
       "        vertical-align: top;\n",
       "    }\n",
       "\n",
       "    .dataframe thead th {\n",
       "        text-align: right;\n",
       "    }\n",
       "</style>\n",
       "<table border=\"1\" class=\"dataframe\">\n",
       "  <thead>\n",
       "    <tr style=\"text-align: right;\">\n",
       "      <th></th>\n",
       "      <th>graphName</th>\n",
       "      <th>database</th>\n",
       "      <th>memoryUsage</th>\n",
       "      <th>sizeInBytes</th>\n",
       "      <th>nodeCount</th>\n",
       "      <th>relationshipCount</th>\n",
       "      <th>configuration</th>\n",
       "      <th>density</th>\n",
       "      <th>creationTime</th>\n",
       "      <th>modificationTime</th>\n",
       "      <th>schema</th>\n",
       "      <th>schemaWithOrientation</th>\n",
       "    </tr>\n",
       "  </thead>\n",
       "  <tbody>\n",
       "    <tr>\n",
       "      <th>0</th>\n",
       "      <td>projection</td>\n",
       "      <td>neo4j</td>\n",
       "      <td></td>\n",
       "      <td>-1</td>\n",
       "      <td>175858</td>\n",
       "      <td>2278006</td>\n",
       "      <td>{'relationshipProjection': {'LOCATED_AT': {'or...</td>\n",
       "      <td>0.000074</td>\n",
       "      <td>2023-04-11T02:55:17.931693467+00:00</td>\n",
       "      <td>2023-04-11T02:55:31.944540335+00:00</td>\n",
       "      <td>{'graphProperties': {}, 'relationships': {'LOC...</td>\n",
       "      <td>{'graphProperties': {}, 'relationships': {'LOC...</td>\n",
       "    </tr>\n",
       "  </tbody>\n",
       "</table>\n",
       "</div>"
      ],
      "text/plain": [
       "    graphName database memoryUsage  sizeInBytes  nodeCount  relationshipCount  \\\n",
       "0  projection    neo4j                       -1     175858            2278006   \n",
       "\n",
       "                                       configuration   density  \\\n",
       "0  {'relationshipProjection': {'LOCATED_AT': {'or...  0.000074   \n",
       "\n",
       "                          creationTime                     modificationTime  \\\n",
       "0  2023-04-11T02:55:17.931693467+00:00  2023-04-11T02:55:31.944540335+00:00   \n",
       "\n",
       "                                              schema  \\\n",
       "0  {'graphProperties': {}, 'relationships': {'LOC...   \n",
       "\n",
       "                               schemaWithOrientation  \n",
       "0  {'graphProperties': {}, 'relationships': {'LOC...  "
      ]
     },
     "metadata": {},
     "output_type": "display_data"
    }
   ],
   "source": [
    "# result = gds.run_cypher(\n",
    "#   \"\"\"\n",
    "#     CALL gds.graph.drop('projection')\n",
    "#   \"\"\"\n",
    "# )\n",
    "# display(result)"
   ]
  },
  {
   "cell_type": "markdown",
   "metadata": {
    "id": "zG1novOj6Oxb"
   },
   "source": [
    "Now, let's list the details of the graph to make sure the projection was created as we want."
   ]
  },
  {
   "cell_type": "code",
   "execution_count": 40,
   "metadata": {
    "colab": {
     "base_uri": "https://localhost:8080/",
     "height": 179
    },
    "executionInfo": {
     "elapsed": 782,
     "status": "ok",
     "timestamp": 1681109923007,
     "user": {
      "displayName": "Ezhil Vendhan",
      "userId": "03023723423453260577"
     },
     "user_tz": -480
    },
    "gather": {
     "logged": 1669344842885
    },
    "id": "yyaw5itE6Oxb",
    "outputId": "0e957f92-fe36-40d3-b658-fc8de5ffb369"
   },
   "outputs": [
    {
     "data": {
      "text/html": [
       "<div>\n",
       "<style scoped>\n",
       "    .dataframe tbody tr th:only-of-type {\n",
       "        vertical-align: middle;\n",
       "    }\n",
       "\n",
       "    .dataframe tbody tr th {\n",
       "        vertical-align: top;\n",
       "    }\n",
       "\n",
       "    .dataframe thead th {\n",
       "        text-align: right;\n",
       "    }\n",
       "</style>\n",
       "<table border=\"1\" class=\"dataframe\">\n",
       "  <thead>\n",
       "    <tr style=\"text-align: right;\">\n",
       "      <th></th>\n",
       "      <th>degreeDistribution</th>\n",
       "      <th>graphName</th>\n",
       "      <th>database</th>\n",
       "      <th>memoryUsage</th>\n",
       "      <th>sizeInBytes</th>\n",
       "      <th>nodeCount</th>\n",
       "      <th>relationshipCount</th>\n",
       "      <th>configuration</th>\n",
       "      <th>density</th>\n",
       "      <th>creationTime</th>\n",
       "      <th>modificationTime</th>\n",
       "      <th>schema</th>\n",
       "      <th>schemaWithOrientation</th>\n",
       "    </tr>\n",
       "  </thead>\n",
       "  <tbody>\n",
       "    <tr>\n",
       "      <th>0</th>\n",
       "      <td>{'p99': 58, 'min': 1, 'max': 41743, 'mean': 12...</td>\n",
       "      <td>projection</td>\n",
       "      <td>neo4j</td>\n",
       "      <td>66 MiB</td>\n",
       "      <td>69493423</td>\n",
       "      <td>167271</td>\n",
       "      <td>2105376</td>\n",
       "      <td>{'relationshipProjection': {'HAS_DIAGNOSIS': {...</td>\n",
       "      <td>0.000075</td>\n",
       "      <td>2023-04-13T05:21:31.308880807+00:00</td>\n",
       "      <td>2023-04-13T05:21:31.916404731+00:00</td>\n",
       "      <td>{'graphProperties': {}, 'relationships': {'HAS...</td>\n",
       "      <td>{'graphProperties': {}, 'relationships': {'HAS...</td>\n",
       "    </tr>\n",
       "  </tbody>\n",
       "</table>\n",
       "</div>"
      ],
      "text/plain": [
       "                                  degreeDistribution   graphName database  \\\n",
       "0  {'p99': 58, 'min': 1, 'max': 41743, 'mean': 12...  projection    neo4j   \n",
       "\n",
       "  memoryUsage  sizeInBytes  nodeCount  relationshipCount  \\\n",
       "0      66 MiB     69493423     167271            2105376   \n",
       "\n",
       "                                       configuration   density  \\\n",
       "0  {'relationshipProjection': {'HAS_DIAGNOSIS': {...  0.000075   \n",
       "\n",
       "                          creationTime                     modificationTime  \\\n",
       "0  2023-04-13T05:21:31.308880807+00:00  2023-04-13T05:21:31.916404731+00:00   \n",
       "\n",
       "                                              schema  \\\n",
       "0  {'graphProperties': {}, 'relationships': {'HAS...   \n",
       "\n",
       "                               schemaWithOrientation  \n",
       "0  {'graphProperties': {}, 'relationships': {'HAS...  "
      ]
     },
     "metadata": {},
     "output_type": "display_data"
    }
   ],
   "source": [
    "result = gds.run_cypher(\n",
    "  \"\"\"\n",
    "    CALL gds.graph.list()\n",
    "  \"\"\"\n",
    ")\n",
    "display(result)"
   ]
  },
  {
   "cell_type": "markdown",
   "metadata": {
    "id": "XEQAChAa6Oxb"
   },
   "source": [
    "Now we can generate an embedding from that graph. This is a new feature we can use in our predictions. We're using FastRP, which is a more full featured and higher performance of Node2Vec. You can learn more about that [here](https://neo4j.com/docs/graph-data-science/current/algorithms/fastrp/).\n",
    "\n",
    "There are a bunch of parameters we could adjust in this.  One of the most obvious is the embeddingDimension.  The documentation covers many more."
   ]
  },
  {
   "cell_type": "code",
   "execution_count": 41,
   "metadata": {
    "colab": {
     "base_uri": "https://localhost:8080/",
     "height": 81
    },
    "executionInfo": {
     "elapsed": 278,
     "status": "ok",
     "timestamp": 1681109936445,
     "user": {
      "displayName": "Ezhil Vendhan",
      "userId": "03023723423453260577"
     },
     "user_tz": -480
    },
    "gather": {
     "logged": 1669344853127
    },
    "id": "qLFxuPb66Oxc",
    "outputId": "8ead5add-039b-4749-db21-ae1cb0595ae1"
   },
   "outputs": [
    {
     "data": {
      "text/html": [
       "<div>\n",
       "<style scoped>\n",
       "    .dataframe tbody tr th:only-of-type {\n",
       "        vertical-align: middle;\n",
       "    }\n",
       "\n",
       "    .dataframe tbody tr th {\n",
       "        vertical-align: top;\n",
       "    }\n",
       "\n",
       "    .dataframe thead th {\n",
       "        text-align: right;\n",
       "    }\n",
       "</style>\n",
       "<table border=\"1\" class=\"dataframe\">\n",
       "  <thead>\n",
       "    <tr style=\"text-align: right;\">\n",
       "      <th></th>\n",
       "      <th>nodePropertiesWritten</th>\n",
       "      <th>mutateMillis</th>\n",
       "      <th>nodeCount</th>\n",
       "      <th>preProcessingMillis</th>\n",
       "      <th>computeMillis</th>\n",
       "      <th>configuration</th>\n",
       "    </tr>\n",
       "  </thead>\n",
       "  <tbody>\n",
       "    <tr>\n",
       "      <th>0</th>\n",
       "      <td>167271</td>\n",
       "      <td>1</td>\n",
       "      <td>167271</td>\n",
       "      <td>2</td>\n",
       "      <td>409</td>\n",
       "      <td>{'nodeSelfInfluence': 0, 'propertyRatio': 0.0,...</td>\n",
       "    </tr>\n",
       "  </tbody>\n",
       "</table>\n",
       "</div>"
      ],
      "text/plain": [
       "   nodePropertiesWritten  mutateMillis  nodeCount  preProcessingMillis  \\\n",
       "0                 167271             1     167271                    2   \n",
       "\n",
       "   computeMillis                                      configuration  \n",
       "0            409  {'nodeSelfInfluence': 0, 'propertyRatio': 0.0,...  "
      ]
     },
     "metadata": {},
     "output_type": "display_data"
    }
   ],
   "source": [
    "result = gds.run_cypher(\n",
    "  \"\"\"\n",
    "  CALL gds.fastRP.mutate('projection',{\n",
    "    embeddingDimension: 32,\n",
    "    randomSeed: 1,\n",
    "    mutateProperty:'embedding'\n",
    "  })\n",
    "  \"\"\"\n",
    ")\n",
    "display(result)"
   ]
  },
  {
   "cell_type": "markdown",
   "metadata": {
    "id": "iRpgM-NV6Oxc"
   },
   "source": [
    "That creates an embedding for each node type.  However, we only want the embedding on the nodes of type holding.\n",
    "\n",
    "We're going to take the embedding from our projection and write it to the holding nodes in the underlying database."
   ]
  },
  {
   "cell_type": "code",
   "execution_count": 42,
   "metadata": {
    "colab": {
     "base_uri": "https://localhost:8080/",
     "height": 81
    },
    "executionInfo": {
     "elapsed": 1634,
     "status": "ok",
     "timestamp": 1681109940975,
     "user": {
      "displayName": "Ezhil Vendhan",
      "userId": "03023723423453260577"
     },
     "user_tz": -480
    },
    "gather": {
     "logged": 1669344860116
    },
    "id": "3dBS16zD6Oxc",
    "outputId": "9a8be315-e872-4b79-99ea-25a0dacb7379",
    "tags": []
   },
   "outputs": [
    {
     "data": {
      "text/html": [
       "<div>\n",
       "<style scoped>\n",
       "    .dataframe tbody tr th:only-of-type {\n",
       "        vertical-align: middle;\n",
       "    }\n",
       "\n",
       "    .dataframe tbody tr th {\n",
       "        vertical-align: top;\n",
       "    }\n",
       "\n",
       "    .dataframe thead th {\n",
       "        text-align: right;\n",
       "    }\n",
       "</style>\n",
       "<table border=\"1\" class=\"dataframe\">\n",
       "  <thead>\n",
       "    <tr style=\"text-align: right;\">\n",
       "      <th></th>\n",
       "      <th>writeMillis</th>\n",
       "    </tr>\n",
       "  </thead>\n",
       "  <tbody>\n",
       "    <tr>\n",
       "      <th>0</th>\n",
       "      <td>902</td>\n",
       "    </tr>\n",
       "  </tbody>\n",
       "</table>\n",
       "</div>"
      ],
      "text/plain": [
       "   writeMillis\n",
       "0          902"
      ]
     },
     "metadata": {},
     "output_type": "display_data"
    }
   ],
   "source": [
    "result = gds.run_cypher(\n",
    "  \"\"\"\n",
    "    CALL gds.graph.writeNodeProperties('projection', ['embedding'], \n",
    "    ['Claim'])\n",
    "    YIELD writeMillis\n",
    "  \"\"\"\n",
    ")\n",
    "display(result)"
   ]
  },
  {
   "cell_type": "code",
   "execution_count": 43,
   "metadata": {
    "scrolled": true
   },
   "outputs": [
    {
     "name": "stderr",
     "output_type": "stream",
     "text": [
      "ERROR:neo4j:Failed to write data to connection ResolvedIPv4Address(('35.240.86.240', 7687)) (IPv4Address(('35.240.86.240', 7687)))\n",
      "ERROR:neo4j:Failed to write data to connection IPv4Address(('bc42e675.databases.neo4j.io', 7687)) (IPv4Address(('35.240.86.240', 7687)))\n",
      "ERROR:neo4j:Failed to write data to connection ResolvedIPv4Address(('35.240.86.240', 7687)) (IPv4Address(('35.240.86.240', 7687)))\n",
      "ERROR:neo4j:Failed to write data to connection ResolvedIPv4Address(('35.240.86.240', 7687)) (IPv4Address(('35.240.86.240', 7687)))\n",
      "ERROR:neo4j:Failed to write data to connection ResolvedIPv4Address(('35.240.86.240', 7687)) (IPv4Address(('35.240.86.240', 7687)))\n"
     ]
    },
    {
     "data": {
      "text/html": [
       "<div>\n",
       "<style scoped>\n",
       "    .dataframe tbody tr th:only-of-type {\n",
       "        vertical-align: middle;\n",
       "    }\n",
       "\n",
       "    .dataframe tbody tr th {\n",
       "        vertical-align: top;\n",
       "    }\n",
       "\n",
       "    .dataframe thead th {\n",
       "        text-align: right;\n",
       "    }\n",
       "</style>\n",
       "<table border=\"1\" class=\"dataframe\">\n",
       "  <thead>\n",
       "    <tr style=\"text-align: right;\">\n",
       "      <th></th>\n",
       "      <th>id</th>\n",
       "      <th>embedding</th>\n",
       "      <th>target</th>\n",
       "    </tr>\n",
       "  </thead>\n",
       "  <tbody>\n",
       "    <tr>\n",
       "      <th>0</th>\n",
       "      <td>CLM110011</td>\n",
       "      <td>[0.25475338101387024, -0.06622820347547531, -0...</td>\n",
       "      <td>1</td>\n",
       "    </tr>\n",
       "    <tr>\n",
       "      <th>1</th>\n",
       "      <td>CLM110030</td>\n",
       "      <td>[0.23718515038490295, -0.3272676467895508, -0....</td>\n",
       "      <td>1</td>\n",
       "    </tr>\n",
       "    <tr>\n",
       "      <th>2</th>\n",
       "      <td>CLM110031</td>\n",
       "      <td>[-0.04657674953341484, -0.26664191484451294, -...</td>\n",
       "      <td>1</td>\n",
       "    </tr>\n",
       "    <tr>\n",
       "      <th>3</th>\n",
       "      <td>CLM110038</td>\n",
       "      <td>[-0.20030340552330017, -0.3031255304813385, 0....</td>\n",
       "      <td>0</td>\n",
       "    </tr>\n",
       "    <tr>\n",
       "      <th>4</th>\n",
       "      <td>CLM110040</td>\n",
       "      <td>[-0.10362769663333893, 0.39278534054756165, -0...</td>\n",
       "      <td>1</td>\n",
       "    </tr>\n",
       "    <tr>\n",
       "      <th>...</th>\n",
       "      <td>...</td>\n",
       "      <td>...</td>\n",
       "      <td>...</td>\n",
       "    </tr>\n",
       "    <tr>\n",
       "      <th>100075</th>\n",
       "      <td>CLM82009</td>\n",
       "      <td>[0.09063015133142471, -0.4597131609916687, -0....</td>\n",
       "      <td>1</td>\n",
       "    </tr>\n",
       "    <tr>\n",
       "      <th>100076</th>\n",
       "      <td>CLM82013</td>\n",
       "      <td>[-0.10496556758880615, -0.28348422050476074, -...</td>\n",
       "      <td>1</td>\n",
       "    </tr>\n",
       "    <tr>\n",
       "      <th>100077</th>\n",
       "      <td>CLM82218</td>\n",
       "      <td>[-0.18778499960899353, -0.1842784881591797, 0....</td>\n",
       "      <td>1</td>\n",
       "    </tr>\n",
       "    <tr>\n",
       "      <th>100078</th>\n",
       "      <td>CLM82303</td>\n",
       "      <td>[-0.12101850658655167, 0.09562279284000397, 0....</td>\n",
       "      <td>1</td>\n",
       "    </tr>\n",
       "    <tr>\n",
       "      <th>100079</th>\n",
       "      <td>CLM82313</td>\n",
       "      <td>[0.2746661305427551, 0.20499201118946075, -0.4...</td>\n",
       "      <td>1</td>\n",
       "    </tr>\n",
       "  </tbody>\n",
       "</table>\n",
       "<p>100080 rows × 3 columns</p>\n",
       "</div>"
      ],
      "text/plain": [
       "               id                                          embedding target\n",
       "0       CLM110011  [0.25475338101387024, -0.06622820347547531, -0...      1\n",
       "1       CLM110030  [0.23718515038490295, -0.3272676467895508, -0....      1\n",
       "2       CLM110031  [-0.04657674953341484, -0.26664191484451294, -...      1\n",
       "3       CLM110038  [-0.20030340552330017, -0.3031255304813385, 0....      0\n",
       "4       CLM110040  [-0.10362769663333893, 0.39278534054756165, -0...      1\n",
       "...           ...                                                ...    ...\n",
       "100075   CLM82009  [0.09063015133142471, -0.4597131609916687, -0....      1\n",
       "100076   CLM82013  [-0.10496556758880615, -0.28348422050476074, -...      1\n",
       "100077   CLM82218  [-0.18778499960899353, -0.1842784881591797, 0....      1\n",
       "100078   CLM82303  [-0.12101850658655167, 0.09562279284000397, 0....      1\n",
       "100079   CLM82313  [0.2746661305427551, 0.20499201118946075, -0.4...      1\n",
       "\n",
       "[100080 rows x 3 columns]"
      ]
     },
     "metadata": {},
     "output_type": "display_data"
    }
   ],
   "source": [
    "result = gds.run_cypher(\n",
    "  \"\"\" \n",
    "    MATCH (claim:Claim)\n",
    "    RETURN claim.id as id, claim.embedding as embedding, claim.isFraud as target\n",
    "    \n",
    "  \"\"\"\n",
    ")\n",
    "display(result)"
   ]
  },
  {
   "cell_type": "markdown",
   "metadata": {},
   "source": [
    "This is what we just did\n",
    "\n",
    "![embeddings](https://storage.googleapis.com/neo4j-datasets/insurance-claim/img/what_are_embeddings.png)"
   ]
  },
  {
   "cell_type": "markdown",
   "metadata": {
    "id": "CQ5vwvnl8uLh"
   },
   "source": [
    "# Export Embeddings\n",
    "Now we're going to reformat the query output so that the embeddings can be fed in to a Vertex AI Auto ML pipeline. Note that we are exporting only embeddings and all the other features are intentionally left out. This is to showcase how powerful these vectors are!"
   ]
  },
  {
   "cell_type": "code",
   "execution_count": 44,
   "metadata": {
    "colab": {
     "base_uri": "https://localhost:8080/",
     "height": 424
    },
    "executionInfo": {
     "elapsed": 294,
     "status": "ok",
     "timestamp": 1681109970650,
     "user": {
      "displayName": "Ezhil Vendhan",
      "userId": "03023723423453260577"
     },
     "user_tz": -480
    },
    "gather": {
     "logged": 1669344950284
    },
    "id": "197ZaAH16Oxc",
    "outputId": "4db4f980-74bf-4c2b-a304-3ea61ae834e0"
   },
   "outputs": [
    {
     "data": {
      "text/html": [
       "<div>\n",
       "<style scoped>\n",
       "    .dataframe tbody tr th:only-of-type {\n",
       "        vertical-align: middle;\n",
       "    }\n",
       "\n",
       "    .dataframe tbody tr th {\n",
       "        vertical-align: top;\n",
       "    }\n",
       "\n",
       "    .dataframe thead th {\n",
       "        text-align: right;\n",
       "    }\n",
       "</style>\n",
       "<table border=\"1\" class=\"dataframe\">\n",
       "  <thead>\n",
       "    <tr style=\"text-align: right;\">\n",
       "      <th></th>\n",
       "      <th>id</th>\n",
       "      <th>embedding</th>\n",
       "      <th>target</th>\n",
       "    </tr>\n",
       "  </thead>\n",
       "  <tbody>\n",
       "    <tr>\n",
       "      <th>0</th>\n",
       "      <td>CLM110011</td>\n",
       "      <td>[0.25475338101387024, -0.06622820347547531, -0...</td>\n",
       "      <td>1</td>\n",
       "    </tr>\n",
       "    <tr>\n",
       "      <th>1</th>\n",
       "      <td>CLM110030</td>\n",
       "      <td>[0.23718515038490295, -0.3272676467895508, -0....</td>\n",
       "      <td>1</td>\n",
       "    </tr>\n",
       "    <tr>\n",
       "      <th>2</th>\n",
       "      <td>CLM110031</td>\n",
       "      <td>[-0.04657674953341484, -0.26664191484451294, -...</td>\n",
       "      <td>1</td>\n",
       "    </tr>\n",
       "    <tr>\n",
       "      <th>3</th>\n",
       "      <td>CLM110038</td>\n",
       "      <td>[-0.20030340552330017, -0.3031255304813385, 0....</td>\n",
       "      <td>0</td>\n",
       "    </tr>\n",
       "    <tr>\n",
       "      <th>4</th>\n",
       "      <td>CLM110040</td>\n",
       "      <td>[-0.10362769663333893, 0.39278534054756165, -0...</td>\n",
       "      <td>1</td>\n",
       "    </tr>\n",
       "    <tr>\n",
       "      <th>...</th>\n",
       "      <td>...</td>\n",
       "      <td>...</td>\n",
       "      <td>...</td>\n",
       "    </tr>\n",
       "    <tr>\n",
       "      <th>100075</th>\n",
       "      <td>CLM82009</td>\n",
       "      <td>[0.09063015133142471, -0.4597131609916687, -0....</td>\n",
       "      <td>1</td>\n",
       "    </tr>\n",
       "    <tr>\n",
       "      <th>100076</th>\n",
       "      <td>CLM82013</td>\n",
       "      <td>[-0.10496556758880615, -0.28348422050476074, -...</td>\n",
       "      <td>1</td>\n",
       "    </tr>\n",
       "    <tr>\n",
       "      <th>100077</th>\n",
       "      <td>CLM82218</td>\n",
       "      <td>[-0.18778499960899353, -0.1842784881591797, 0....</td>\n",
       "      <td>1</td>\n",
       "    </tr>\n",
       "    <tr>\n",
       "      <th>100078</th>\n",
       "      <td>CLM82303</td>\n",
       "      <td>[-0.12101850658655167, 0.09562279284000397, 0....</td>\n",
       "      <td>1</td>\n",
       "    </tr>\n",
       "    <tr>\n",
       "      <th>100079</th>\n",
       "      <td>CLM82313</td>\n",
       "      <td>[0.2746661305427551, 0.20499201118946075, -0.4...</td>\n",
       "      <td>1</td>\n",
       "    </tr>\n",
       "  </tbody>\n",
       "</table>\n",
       "<p>100080 rows × 3 columns</p>\n",
       "</div>"
      ],
      "text/plain": [
       "               id                                          embedding target\n",
       "0       CLM110011  [0.25475338101387024, -0.06622820347547531, -0...      1\n",
       "1       CLM110030  [0.23718515038490295, -0.3272676467895508, -0....      1\n",
       "2       CLM110031  [-0.04657674953341484, -0.26664191484451294, -...      1\n",
       "3       CLM110038  [-0.20030340552330017, -0.3031255304813385, 0....      0\n",
       "4       CLM110040  [-0.10362769663333893, 0.39278534054756165, -0...      1\n",
       "...           ...                                                ...    ...\n",
       "100075   CLM82009  [0.09063015133142471, -0.4597131609916687, -0....      1\n",
       "100076   CLM82013  [-0.10496556758880615, -0.28348422050476074, -...      1\n",
       "100077   CLM82218  [-0.18778499960899353, -0.1842784881591797, 0....      1\n",
       "100078   CLM82303  [-0.12101850658655167, 0.09562279284000397, 0....      1\n",
       "100079   CLM82313  [0.2746661305427551, 0.20499201118946075, -0.4...      1\n",
       "\n",
       "[100080 rows x 3 columns]"
      ]
     },
     "execution_count": 44,
     "metadata": {},
     "output_type": "execute_result"
    }
   ],
   "source": [
    "df = result\n",
    "df"
   ]
  },
  {
   "cell_type": "markdown",
   "metadata": {
    "id": "A3esUO8s6Oxc"
   },
   "source": [
    "Note that the embedding row is an array. To make this dataset more consumable, we should flatten that out into multiple individual features: embedding_0, embedding_1, ... embedding_n.\n"
   ]
  },
  {
   "cell_type": "code",
   "execution_count": 45,
   "metadata": {
    "colab": {
     "base_uri": "https://localhost:8080/",
     "height": 488
    },
    "executionInfo": {
     "elapsed": 811,
     "status": "ok",
     "timestamp": 1681109976089,
     "user": {
      "displayName": "Ezhil Vendhan",
      "userId": "03023723423453260577"
     },
     "user_tz": -480
    },
    "gather": {
     "logged": 1669344969701
    },
    "id": "-i0_txCB6Oxc",
    "outputId": "77406878-d2d4-4960-8e62-5f4657cb08a0"
   },
   "outputs": [
    {
     "data": {
      "text/html": [
       "<div>\n",
       "<style scoped>\n",
       "    .dataframe tbody tr th:only-of-type {\n",
       "        vertical-align: middle;\n",
       "    }\n",
       "\n",
       "    .dataframe tbody tr th {\n",
       "        vertical-align: top;\n",
       "    }\n",
       "\n",
       "    .dataframe thead th {\n",
       "        text-align: right;\n",
       "    }\n",
       "</style>\n",
       "<table border=\"1\" class=\"dataframe\">\n",
       "  <thead>\n",
       "    <tr style=\"text-align: right;\">\n",
       "      <th></th>\n",
       "      <th>id</th>\n",
       "      <th>target</th>\n",
       "      <th>embedding_0</th>\n",
       "      <th>embedding_1</th>\n",
       "      <th>embedding_2</th>\n",
       "      <th>embedding_3</th>\n",
       "      <th>embedding_4</th>\n",
       "      <th>embedding_5</th>\n",
       "      <th>embedding_6</th>\n",
       "      <th>embedding_7</th>\n",
       "      <th>...</th>\n",
       "      <th>embedding_22</th>\n",
       "      <th>embedding_23</th>\n",
       "      <th>embedding_24</th>\n",
       "      <th>embedding_25</th>\n",
       "      <th>embedding_26</th>\n",
       "      <th>embedding_27</th>\n",
       "      <th>embedding_28</th>\n",
       "      <th>embedding_29</th>\n",
       "      <th>embedding_30</th>\n",
       "      <th>embedding_31</th>\n",
       "    </tr>\n",
       "  </thead>\n",
       "  <tbody>\n",
       "    <tr>\n",
       "      <th>0</th>\n",
       "      <td>CLM110011</td>\n",
       "      <td>1</td>\n",
       "      <td>0.254753</td>\n",
       "      <td>-0.066228</td>\n",
       "      <td>-0.024775</td>\n",
       "      <td>0.163831</td>\n",
       "      <td>-0.148595</td>\n",
       "      <td>-0.342255</td>\n",
       "      <td>0.038257</td>\n",
       "      <td>0.216315</td>\n",
       "      <td>...</td>\n",
       "      <td>-0.581566</td>\n",
       "      <td>0.196882</td>\n",
       "      <td>-0.163435</td>\n",
       "      <td>-0.278253</td>\n",
       "      <td>-0.017337</td>\n",
       "      <td>0.189501</td>\n",
       "      <td>-0.050509</td>\n",
       "      <td>-0.203961</td>\n",
       "      <td>0.106913</td>\n",
       "      <td>0.248206</td>\n",
       "    </tr>\n",
       "    <tr>\n",
       "      <th>1</th>\n",
       "      <td>CLM110030</td>\n",
       "      <td>1</td>\n",
       "      <td>0.237185</td>\n",
       "      <td>-0.327268</td>\n",
       "      <td>-0.296732</td>\n",
       "      <td>0.629316</td>\n",
       "      <td>-0.000570</td>\n",
       "      <td>-0.490610</td>\n",
       "      <td>-0.408764</td>\n",
       "      <td>0.116625</td>\n",
       "      <td>...</td>\n",
       "      <td>-0.110048</td>\n",
       "      <td>0.188176</td>\n",
       "      <td>0.225552</td>\n",
       "      <td>0.046880</td>\n",
       "      <td>-0.099424</td>\n",
       "      <td>-0.002114</td>\n",
       "      <td>0.629702</td>\n",
       "      <td>0.002217</td>\n",
       "      <td>0.173656</td>\n",
       "      <td>-0.096110</td>\n",
       "    </tr>\n",
       "    <tr>\n",
       "      <th>2</th>\n",
       "      <td>CLM110031</td>\n",
       "      <td>1</td>\n",
       "      <td>-0.046577</td>\n",
       "      <td>-0.266642</td>\n",
       "      <td>-0.080029</td>\n",
       "      <td>0.199684</td>\n",
       "      <td>0.253483</td>\n",
       "      <td>-0.039590</td>\n",
       "      <td>0.138160</td>\n",
       "      <td>0.136227</td>\n",
       "      <td>...</td>\n",
       "      <td>0.005766</td>\n",
       "      <td>0.671487</td>\n",
       "      <td>0.206718</td>\n",
       "      <td>-0.307127</td>\n",
       "      <td>0.093026</td>\n",
       "      <td>0.166204</td>\n",
       "      <td>0.820539</td>\n",
       "      <td>0.381333</td>\n",
       "      <td>0.241134</td>\n",
       "      <td>0.115846</td>\n",
       "    </tr>\n",
       "    <tr>\n",
       "      <th>3</th>\n",
       "      <td>CLM110038</td>\n",
       "      <td>0</td>\n",
       "      <td>-0.200303</td>\n",
       "      <td>-0.303126</td>\n",
       "      <td>0.032465</td>\n",
       "      <td>0.343753</td>\n",
       "      <td>0.260205</td>\n",
       "      <td>0.229180</td>\n",
       "      <td>0.014260</td>\n",
       "      <td>-0.082209</td>\n",
       "      <td>...</td>\n",
       "      <td>0.268068</td>\n",
       "      <td>0.230118</td>\n",
       "      <td>0.376665</td>\n",
       "      <td>-0.203866</td>\n",
       "      <td>-0.064994</td>\n",
       "      <td>0.299583</td>\n",
       "      <td>0.366296</td>\n",
       "      <td>0.697823</td>\n",
       "      <td>0.307896</td>\n",
       "      <td>0.145842</td>\n",
       "    </tr>\n",
       "    <tr>\n",
       "      <th>4</th>\n",
       "      <td>CLM110040</td>\n",
       "      <td>1</td>\n",
       "      <td>-0.103628</td>\n",
       "      <td>0.392785</td>\n",
       "      <td>-0.174991</td>\n",
       "      <td>0.163666</td>\n",
       "      <td>-0.326548</td>\n",
       "      <td>-0.669855</td>\n",
       "      <td>-0.055932</td>\n",
       "      <td>-0.428920</td>\n",
       "      <td>...</td>\n",
       "      <td>-0.279547</td>\n",
       "      <td>0.243947</td>\n",
       "      <td>-0.040868</td>\n",
       "      <td>0.043690</td>\n",
       "      <td>-0.281771</td>\n",
       "      <td>0.385158</td>\n",
       "      <td>-0.177652</td>\n",
       "      <td>0.196085</td>\n",
       "      <td>0.290687</td>\n",
       "      <td>0.073680</td>\n",
       "    </tr>\n",
       "    <tr>\n",
       "      <th>...</th>\n",
       "      <td>...</td>\n",
       "      <td>...</td>\n",
       "      <td>...</td>\n",
       "      <td>...</td>\n",
       "      <td>...</td>\n",
       "      <td>...</td>\n",
       "      <td>...</td>\n",
       "      <td>...</td>\n",
       "      <td>...</td>\n",
       "      <td>...</td>\n",
       "      <td>...</td>\n",
       "      <td>...</td>\n",
       "      <td>...</td>\n",
       "      <td>...</td>\n",
       "      <td>...</td>\n",
       "      <td>...</td>\n",
       "      <td>...</td>\n",
       "      <td>...</td>\n",
       "      <td>...</td>\n",
       "      <td>...</td>\n",
       "      <td>...</td>\n",
       "    </tr>\n",
       "    <tr>\n",
       "      <th>100075</th>\n",
       "      <td>CLM82009</td>\n",
       "      <td>1</td>\n",
       "      <td>0.090630</td>\n",
       "      <td>-0.459713</td>\n",
       "      <td>-0.277713</td>\n",
       "      <td>0.413355</td>\n",
       "      <td>0.147438</td>\n",
       "      <td>-0.042238</td>\n",
       "      <td>-0.256380</td>\n",
       "      <td>-0.201239</td>\n",
       "      <td>...</td>\n",
       "      <td>0.243564</td>\n",
       "      <td>-0.007511</td>\n",
       "      <td>0.005761</td>\n",
       "      <td>-0.205602</td>\n",
       "      <td>-0.044075</td>\n",
       "      <td>-0.079467</td>\n",
       "      <td>0.395546</td>\n",
       "      <td>0.769303</td>\n",
       "      <td>0.056248</td>\n",
       "      <td>0.313104</td>\n",
       "    </tr>\n",
       "    <tr>\n",
       "      <th>100076</th>\n",
       "      <td>CLM82013</td>\n",
       "      <td>1</td>\n",
       "      <td>-0.104966</td>\n",
       "      <td>-0.283484</td>\n",
       "      <td>-0.172737</td>\n",
       "      <td>0.295921</td>\n",
       "      <td>0.385614</td>\n",
       "      <td>-0.201597</td>\n",
       "      <td>-0.282823</td>\n",
       "      <td>0.280774</td>\n",
       "      <td>...</td>\n",
       "      <td>0.348946</td>\n",
       "      <td>0.266918</td>\n",
       "      <td>0.052059</td>\n",
       "      <td>-0.213536</td>\n",
       "      <td>0.183162</td>\n",
       "      <td>-0.187067</td>\n",
       "      <td>0.317850</td>\n",
       "      <td>-0.100454</td>\n",
       "      <td>-0.053826</td>\n",
       "      <td>0.310971</td>\n",
       "    </tr>\n",
       "    <tr>\n",
       "      <th>100077</th>\n",
       "      <td>CLM82218</td>\n",
       "      <td>1</td>\n",
       "      <td>-0.187785</td>\n",
       "      <td>-0.184278</td>\n",
       "      <td>0.147906</td>\n",
       "      <td>0.382442</td>\n",
       "      <td>0.140461</td>\n",
       "      <td>0.000992</td>\n",
       "      <td>-0.134462</td>\n",
       "      <td>0.241466</td>\n",
       "      <td>...</td>\n",
       "      <td>0.105916</td>\n",
       "      <td>0.309607</td>\n",
       "      <td>-0.046990</td>\n",
       "      <td>-0.274648</td>\n",
       "      <td>0.064452</td>\n",
       "      <td>-0.004789</td>\n",
       "      <td>0.386445</td>\n",
       "      <td>0.063947</td>\n",
       "      <td>0.319438</td>\n",
       "      <td>0.178781</td>\n",
       "    </tr>\n",
       "    <tr>\n",
       "      <th>100078</th>\n",
       "      <td>CLM82303</td>\n",
       "      <td>1</td>\n",
       "      <td>-0.121019</td>\n",
       "      <td>0.095623</td>\n",
       "      <td>0.023514</td>\n",
       "      <td>0.169223</td>\n",
       "      <td>0.133172</td>\n",
       "      <td>-0.387692</td>\n",
       "      <td>0.229661</td>\n",
       "      <td>0.213616</td>\n",
       "      <td>...</td>\n",
       "      <td>0.228377</td>\n",
       "      <td>0.016648</td>\n",
       "      <td>0.235559</td>\n",
       "      <td>0.285635</td>\n",
       "      <td>-0.080166</td>\n",
       "      <td>0.245624</td>\n",
       "      <td>0.640240</td>\n",
       "      <td>0.177711</td>\n",
       "      <td>-0.048835</td>\n",
       "      <td>0.286514</td>\n",
       "    </tr>\n",
       "    <tr>\n",
       "      <th>100079</th>\n",
       "      <td>CLM82313</td>\n",
       "      <td>1</td>\n",
       "      <td>0.274666</td>\n",
       "      <td>0.204992</td>\n",
       "      <td>-0.486765</td>\n",
       "      <td>0.491222</td>\n",
       "      <td>0.212371</td>\n",
       "      <td>-0.122474</td>\n",
       "      <td>0.058030</td>\n",
       "      <td>0.384550</td>\n",
       "      <td>...</td>\n",
       "      <td>0.188473</td>\n",
       "      <td>0.170327</td>\n",
       "      <td>0.036417</td>\n",
       "      <td>-0.317736</td>\n",
       "      <td>0.188810</td>\n",
       "      <td>-0.066342</td>\n",
       "      <td>0.478621</td>\n",
       "      <td>0.059234</td>\n",
       "      <td>0.018247</td>\n",
       "      <td>-0.057513</td>\n",
       "    </tr>\n",
       "  </tbody>\n",
       "</table>\n",
       "<p>100080 rows × 34 columns</p>\n",
       "</div>"
      ],
      "text/plain": [
       "               id target  embedding_0  embedding_1  embedding_2  embedding_3  \\\n",
       "0       CLM110011      1     0.254753    -0.066228    -0.024775     0.163831   \n",
       "1       CLM110030      1     0.237185    -0.327268    -0.296732     0.629316   \n",
       "2       CLM110031      1    -0.046577    -0.266642    -0.080029     0.199684   \n",
       "3       CLM110038      0    -0.200303    -0.303126     0.032465     0.343753   \n",
       "4       CLM110040      1    -0.103628     0.392785    -0.174991     0.163666   \n",
       "...           ...    ...          ...          ...          ...          ...   \n",
       "100075   CLM82009      1     0.090630    -0.459713    -0.277713     0.413355   \n",
       "100076   CLM82013      1    -0.104966    -0.283484    -0.172737     0.295921   \n",
       "100077   CLM82218      1    -0.187785    -0.184278     0.147906     0.382442   \n",
       "100078   CLM82303      1    -0.121019     0.095623     0.023514     0.169223   \n",
       "100079   CLM82313      1     0.274666     0.204992    -0.486765     0.491222   \n",
       "\n",
       "        embedding_4  embedding_5  embedding_6  embedding_7  ...  embedding_22  \\\n",
       "0         -0.148595    -0.342255     0.038257     0.216315  ...     -0.581566   \n",
       "1         -0.000570    -0.490610    -0.408764     0.116625  ...     -0.110048   \n",
       "2          0.253483    -0.039590     0.138160     0.136227  ...      0.005766   \n",
       "3          0.260205     0.229180     0.014260    -0.082209  ...      0.268068   \n",
       "4         -0.326548    -0.669855    -0.055932    -0.428920  ...     -0.279547   \n",
       "...             ...          ...          ...          ...  ...           ...   \n",
       "100075     0.147438    -0.042238    -0.256380    -0.201239  ...      0.243564   \n",
       "100076     0.385614    -0.201597    -0.282823     0.280774  ...      0.348946   \n",
       "100077     0.140461     0.000992    -0.134462     0.241466  ...      0.105916   \n",
       "100078     0.133172    -0.387692     0.229661     0.213616  ...      0.228377   \n",
       "100079     0.212371    -0.122474     0.058030     0.384550  ...      0.188473   \n",
       "\n",
       "        embedding_23  embedding_24  embedding_25  embedding_26  embedding_27  \\\n",
       "0           0.196882     -0.163435     -0.278253     -0.017337      0.189501   \n",
       "1           0.188176      0.225552      0.046880     -0.099424     -0.002114   \n",
       "2           0.671487      0.206718     -0.307127      0.093026      0.166204   \n",
       "3           0.230118      0.376665     -0.203866     -0.064994      0.299583   \n",
       "4           0.243947     -0.040868      0.043690     -0.281771      0.385158   \n",
       "...              ...           ...           ...           ...           ...   \n",
       "100075     -0.007511      0.005761     -0.205602     -0.044075     -0.079467   \n",
       "100076      0.266918      0.052059     -0.213536      0.183162     -0.187067   \n",
       "100077      0.309607     -0.046990     -0.274648      0.064452     -0.004789   \n",
       "100078      0.016648      0.235559      0.285635     -0.080166      0.245624   \n",
       "100079      0.170327      0.036417     -0.317736      0.188810     -0.066342   \n",
       "\n",
       "        embedding_28  embedding_29  embedding_30  embedding_31  \n",
       "0          -0.050509     -0.203961      0.106913      0.248206  \n",
       "1           0.629702      0.002217      0.173656     -0.096110  \n",
       "2           0.820539      0.381333      0.241134      0.115846  \n",
       "3           0.366296      0.697823      0.307896      0.145842  \n",
       "4          -0.177652      0.196085      0.290687      0.073680  \n",
       "...              ...           ...           ...           ...  \n",
       "100075      0.395546      0.769303      0.056248      0.313104  \n",
       "100076      0.317850     -0.100454     -0.053826      0.310971  \n",
       "100077      0.386445      0.063947      0.319438      0.178781  \n",
       "100078      0.640240      0.177711     -0.048835      0.286514  \n",
       "100079      0.478621      0.059234      0.018247     -0.057513  \n",
       "\n",
       "[100080 rows x 34 columns]"
      ]
     },
     "execution_count": 45,
     "metadata": {},
     "output_type": "execute_result"
    }
   ],
   "source": [
    "embeddings = pd.DataFrame(df['embedding'].values.tolist()).add_prefix(\"embedding_\")\n",
    "merged = df.drop(columns=['embedding']).merge(embeddings, left_index=True, right_index=True)\n",
    "merged"
   ]
  },
  {
   "cell_type": "markdown",
   "metadata": {},
   "source": [
    "If you are curious, visualize the embeddings as a t-SNE plot. It can look something like this:\n",
    "![embedding_viz](https://storage.googleapis.com/neo4j-datasets/insurance-claim/img/embeddings-tsne.png)"
   ]
  },
  {
   "cell_type": "markdown",
   "metadata": {
    "id": "4Zb7lH366Oxc"
   },
   "source": [
    "Now that we have the data formatted properly, let's write it as CSV"
   ]
  },
  {
   "cell_type": "code",
   "execution_count": 47,
   "metadata": {
    "executionInfo": {
     "elapsed": 1711,
     "status": "ok",
     "timestamp": 1681109982494,
     "user": {
      "displayName": "Ezhil Vendhan",
      "userId": "03023723423453260577"
     },
     "user_tz": -480
    },
    "gather": {
     "logged": 1669344975782
    },
    "id": "uLg34zlu6Oxc"
   },
   "outputs": [],
   "source": [
    "import os, numpy as np \n",
    "\n",
    "df = merged\n",
    "\n",
    "outdir = './data'\n",
    "if not os.path.exists(outdir):\n",
    "    os.mkdir(outdir)\n",
    "\n",
    "data = df.sample(frac=1).reset_index(drop=True)\n",
    "data.to_csv(os.path.join(outdir, 'embedding.csv'), index=False)"
   ]
  },
  {
   "cell_type": "markdown",
   "metadata": {
    "id": "Azb1inEVAC7f"
   },
   "source": [
    "## Upload to Google Cloud Storage\n",
    "Now let's write the file to Google Cloud Storage so we can use it in our model.  To do so, we must set a few environment variables.\n",
    "\n",
    "Edit the REGION variable below.  You'll want to be sure it matches the region where your notebook is running.\n",
    "\n",
    "The STORAGE_BUCKET is the name of a new bucket.  It must be globally unique.  It also needs to be all lower case."
   ]
  },
  {
   "cell_type": "code",
   "execution_count": 48,
   "metadata": {
    "executionInfo": {
     "elapsed": 280,
     "status": "ok",
     "timestamp": 1681112445207,
     "user": {
      "displayName": "Ezhil Vendhan",
      "userId": "03023723423453260577"
     },
     "user_tz": -480
    },
    "id": "xsDqLTwk8uLi"
   },
   "outputs": [],
   "source": [
    "import os\n",
    "\n",
    "# Edit this variable!\n",
    "REGION = 'us-west1'\n",
    "shell_output = ! gcloud config list --format 'value(core.project)' 2>/dev/null\n",
    "PROJECT_ID = shell_output[0]\n",
    "\n",
    "STORAGE_BUCKET = PROJECT_ID + '-fsi'\n",
    "STORAGE_BUCKET\n",
    "\n",
    "os.environ[\"GCLOUD_PROJECT\"] = PROJECT_ID"
   ]
  },
  {
   "cell_type": "code",
   "execution_count": 49,
   "metadata": {
    "executionInfo": {
     "elapsed": 3103,
     "status": "ok",
     "timestamp": 1681112450308,
     "user": {
      "displayName": "Ezhil Vendhan",
      "userId": "03023723423453260577"
     },
     "user_tz": -480
    },
    "id": "YHLPXZ198uLi"
   },
   "outputs": [],
   "source": [
    "from google.cloud import storage\n",
    "client = storage.Client()\n",
    "bucket = client.bucket(STORAGE_BUCKET)\n",
    "if not bucket.exists:\n",
    "    bucket.create(location=REGION)\n",
    "\n",
    "blob = bucket.blob(os.path.join('insurance_fraud', 'embedding.csv'))\n",
    "blob.upload_from_filename(os.path.join(outdir, 'embedding.csv'))"
   ]
  },
  {
   "cell_type": "markdown",
   "metadata": {},
   "source": [
    "We will also export factorize the raw data without embeddings and run a similar Auto ML pipeline on Vertex AI. Then, lets compare the accuracy between the two!"
   ]
  },
  {
   "cell_type": "code",
   "execution_count": 52,
   "metadata": {
    "id": "Ew9mjD8-8uLi"
   },
   "outputs": [],
   "source": [
    "raw_df = pd.read_csv(\"https://storage.googleapis.com/neo4j-datasets/insurance-claim/data.csv\")\n",
    "raw_df.rename(columns={'claim_id': 'id',  \n",
    "                       'is_fraud': 'target'}, inplace=True)\n",
    "raw_df['claim_diag_code_1'] = pd.factorize(raw_df['claim_diag_code_1'])[0] + 1\n",
    "raw_df['claim_diag_code_2'] = pd.factorize(raw_df['claim_diag_code_2'])[0] + 1\n",
    "raw_df['claim_diag_code_3'] = pd.factorize(raw_df['claim_diag_code_3'])[0] + 1\n",
    "raw_df['claim_diag_code_4'] = pd.factorize(raw_df['claim_diag_code_4'])[0] + 1\n",
    "raw_df['claim_diag_code_5'] = pd.factorize(raw_df['claim_diag_code_5'])[0] + 1\n",
    "raw_df['claim_diag_code_6'] = pd.factorize(raw_df['claim_diag_code_6'])[0] + 1\n",
    "raw_df['claim_diag_code_7'] = pd.factorize(raw_df['claim_diag_code_7'])[0] + 1\n",
    "raw_df['claim_diag_code_8'] = pd.factorize(raw_df['claim_diag_code_8'])[0] + 1\n",
    "raw_df['claim_diag_code_9'] = pd.factorize(raw_df['claim_diag_code_9'])[0] + 1\n",
    "raw_df['claim_diag_code_10'] = pd.factorize(raw_df['claim_diag_code_10'])[0] + 1\n",
    "raw_df['claim_procedure_code_1'] = pd.factorize(raw_df['claim_procedure_code_1'])[0] + 1\n",
    "raw_df['claim_procedure_code_2'] = pd.factorize(raw_df['claim_procedure_code_2'])[0] + 1\n",
    "raw_df['claim_procedure_code_3'] = pd.factorize(raw_df['claim_procedure_code_3'])[0] + 1\n",
    "raw_df['claim_procedure_code_4'] = pd.factorize(raw_df['claim_procedure_code_4'])[0] + 1\n",
    "raw_df['claim_procedure_code_5'] = pd.factorize(raw_df['claim_procedure_code_5'])[0] + 1\n",
    "raw_df['claim_procedure_code_6'] = pd.factorize(raw_df['claim_procedure_code_6'])[0] + 1\n",
    "raw_df['claim_admit_diagnosis_code'] = pd.factorize(raw_df['claim_admit_diagnosis_code'])[0] + 1\n",
    "raw_df['diag_group_code'] = pd.factorize(raw_df['diag_group_code'])[0] + 1\n",
    "\n",
    "raw_data = raw_df.sample(frac=1).reset_index(drop=True)\n",
    "raw_data.to_csv(os.path.join(outdir, 'raw.csv'), index=False)\n",
    "\n",
    "blob = bucket.blob(os.path.join('insurance_fraud', 'raw.csv'))\n",
    "blob.upload_from_filename(os.path.join(outdir, 'raw.csv'))"
   ]
  },
  {
   "cell_type": "code",
   "execution_count": null,
   "metadata": {},
   "outputs": [],
   "source": []
  }
 ],
 "metadata": {
  "colab": {
   "provenance": []
  },
  "environment": {
   "kernel": "python3",
   "name": "common-cpu.m106",
   "type": "gcloud",
   "uri": "gcr.io/deeplearning-platform-release/base-cpu:m106"
  },
  "instance_type": "ml.t3.medium",
  "kernel_info": {
   "name": "python3"
  },
  "kernelspec": {
   "display_name": "Python 3 (ipykernel)",
   "language": "python",
   "name": "python3"
  },
  "language_info": {
   "codemirror_mode": {
    "name": "ipython",
    "version": 3
   },
   "file_extension": ".py",
   "mimetype": "text/x-python",
   "name": "python",
   "nbconvert_exporter": "python",
   "pygments_lexer": "ipython3",
   "version": "3.9.6"
  },
  "microsoft": {
   "host": {
    "AzureML": {
     "notebookHasBeenCompleted": true
    }
   }
  },
  "nteract": {
   "version": "nteract-front-end@1.0.0"
  },
  "vscode": {
   "interpreter": {
    "hash": "31f2aee4e71d21fbe5cf8b01ff0e069b9275f58929596ceb00d14d90e3e16cd6"
   }
  }
 },
 "nbformat": 4,
 "nbformat_minor": 4
}
